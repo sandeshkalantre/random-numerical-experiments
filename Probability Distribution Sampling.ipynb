{
 "cells": [
  {
   "cell_type": "markdown",
   "metadata": {},
   "source": [
    "# Probability Distribution Sampling\n",
    "Given a uniform random generator for $[0,1]$ and a probability distribution $P(y)$, how can one generate samples ${y_i}$ according to $P(y)$? I will use this notebook to do numerical studies from the analytic solution of this problem.\n",
    "\n",
    "Assume $y_i = y_i(x_i)$. Then we must have by the definition of probability distributions,\n",
    "\n",
    "$$ P(y)dy = P(x) dx$.\n",
    "\n",
    "Now for a uniform distribution P(x) on $[0,1]$, we have a differential equation for P(y),\n",
    "\n",
    "\\begin{align*}\n",
    "P(y) &= \\frac{dx}{dy} \\\\\n",
    "x &= \\int P(y) dy = F(y)\n",
    "\\end{align*}\n",
    "\n",
    "This can be inverted, $y = F^{-1}(x)$. Now, we can generate $y_i$ using $x_i$ and $F^{-1}$."
   ]
  },
  {
   "cell_type": "code",
   "execution_count": 1,
   "metadata": {},
   "outputs": [],
   "source": [
    "import numpy as np\n",
    "import matplotlib.pyplot as plt\n",
    "%matplotlib inline"
   ]
  },
  {
   "cell_type": "code",
   "execution_count": 12,
   "metadata": {},
   "outputs": [
    {
     "data": {
      "text/plain": [
       "<matplotlib.legend.Legend at 0x1095c3128>"
      ]
     },
     "execution_count": 12,
     "metadata": {},
     "output_type": "execute_result"
    },
    {
     "data": {
      "image/png": "[encoded data removed]",
      "text/plain": [
       "<Figure size 432x288 with 1 Axes>"
      ]
     },
     "metadata": {},
     "output_type": "display_data"
    }
   ],
   "source": [
    "# example : exponential distribution\n",
    "num_points = 10000\n",
    "x = np.random.rand(num_points)\n",
    "y = - np.log(1 - x)\n",
    "plt.hist(y,bins=\"auto\",density=True,label=\"Numerical\")\n",
    "\n",
    "y_analytic = np.linspace(0,np.max(y),100)\n",
    "Py = np.exp(-y_analytic)\n",
    "plt.plot(y_analytic,Py,label=\"analytic\")\n",
    "plt.legend()"
   ]
  },
  {
   "cell_type": "markdown",
   "metadata": {},
   "source": [
    "## Metropolis Algorithm\n",
    "We want to generate samples according to a given $P(x)$. The Metropolis algorithm is a random walk method, that provides a walk of point ${x_i}$, whose asymptotic probability approaches $P(x)$.\n",
    "\n",
    "The walk is defined by a transition probability $w(i \\rightarrow j ) = w_{ij}$. If $w_{ij}$ satisfies the detailed balance condition, \n",
    "$$ w_{ij} p(x_i) = w_{ji} p(x_j) $$\n",
    "then the distribution of points converges to the $P(x)$.\n",
    "\n",
    "This condition does not specify the choice for $w_{ij}$. A simple choice is,\n",
    "\n",
    "$$ w_{ij} = \\min\\left(1,\\frac{P(x_j)}{P(x_i)}\\right) $$"
   ]
  },
  {
   "cell_type": "code",
   "execution_count": 24,
   "metadata": {},
   "outputs": [],
   "source": [
    "def next_x(x,delta,P):\n",
    "    '''\n",
    "        x is the current sample\n",
    "        delta is the random step to take from x\n",
    "        P is the prob. distribution function\n",
    "    '''\n",
    "   \n",
    "    x_t = x + delta\n",
    "    \n",
    "    # transition prob\n",
    "    w = P(x_t)/P(x)\n",
    "    \n",
    "    if w >= 1:\n",
    "        return x_t\n",
    "    else:\n",
    "        r = np.random.rand()\n",
    "        if r < w:\n",
    "            return x_t\n",
    "        else:\n",
    "            return x\n",
    "\n",
    "def gauss(x):\n",
    "    '''\n",
    "        Gaussian\n",
    "    '''\n",
    "    return (1.0/np.sqrt(np.pi))*np.exp(-x**2)"
   ]
  },
  {
   "cell_type": "code",
   "execution_count": 41,
   "metadata": {},
   "outputs": [],
   "source": [
    "# example : generating a Gaussian\n",
    "\n",
    "x_0 = 0\n",
    "delta_max = 3.0\n",
    "n_iter = 10000\n",
    "x_list = np.zeros(n_iter)\n",
    "\n",
    "x_list[0] = x_0\n",
    "for i in range(n_iter-1):\n",
    "    delta = delta_max*(-1 + 2*np.random.rand())\n",
    "    x_list[i+1] = next_x(x_list[i],delta,gauss)\n",
    "\n",
    "x_list = np.array(x_list)"
   ]
  },
  {
   "cell_type": "code",
   "execution_count": 42,
   "metadata": {},
   "outputs": [
    {
     "data": {
      "text/plain": [
       "<matplotlib.legend.Legend at 0x10a3e4b00>"
      ]
     },
     "execution_count": 42,
     "metadata": {},
     "output_type": "execute_result"
    },
    {
     "data": {
      "image/png": "[encoded data removed]",
      "text/plain": [
       "<Figure size 432x288 with 1 Axes>"
      ]
     },
     "metadata": {},
     "output_type": "display_data"
    }
   ],
   "source": [
    "plt.hist(x_list,bins=\"auto\",density=True,label=\"Metropolis\")\n",
    "x_analytic = np.linspace(np.min(x_list),np.max(x_list),100)\n",
    "plt.plot(x_analytic,gauss(x_analytic),label=\"Expected\")\n",
    "plt.legend()"
   ]
  },
  {
   "cell_type": "code",
   "execution_count": null,
   "metadata": {},
   "outputs": [],
   "source": []
  }
 ],
 "metadata": {
  "kernelspec": {
   "display_name": "Python 3",
   "language": "python",
   "name": "python3"
  },
  "language_info": {
   "codemirror_mode": {
    "name": "ipython",
    "version": 3
   },
   "file_extension": ".py",
   "mimetype": "text/x-python",
   "name": "python",
   "nbconvert_exporter": "python",
   "pygments_lexer": "ipython3",
   "version": "3.6.5"
  }
 },
 "nbformat": 4,
 "nbformat_minor": 2
}
